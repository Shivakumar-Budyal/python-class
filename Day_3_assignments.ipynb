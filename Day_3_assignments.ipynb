{
  "nbformat": 4,
  "nbformat_minor": 0,
  "metadata": {
    "colab": {
      "name": "Day 3 assignments.ipynb",
      "provenance": [],
      "authorship_tag": "ABX9TyOOpnvax+rm1YCeEzxDMjVa",
      "include_colab_link": true
    },
    "kernelspec": {
      "name": "python3",
      "display_name": "Python 3"
    }
  },
  "cells": [
    {
      "cell_type": "markdown",
      "metadata": {
        "id": "view-in-github",
        "colab_type": "text"
      },
      "source": [
        "<a href=\"https://colab.research.google.com/github/Shivakumar-Budyal/python-class/blob/master/Day_3_assignments.ipynb\" target=\"_parent\"><img src=\"https://colab.research.google.com/assets/colab-badge.svg\" alt=\"Open In Colab\"/></a>"
      ]
    },
    {
      "cell_type": "code",
      "metadata": {
        "id": "fHJm6qoftF7v",
        "colab_type": "code",
        "colab": {}
      },
      "source": [
        "# Assignment 1 Day 3: Prime number program"
      ],
      "execution_count": null,
      "outputs": []
    },
    {
      "cell_type": "code",
      "metadata": {
        "id": "izN_seEw86hU",
        "colab_type": "code",
        "colab": {
          "base_uri": "https://localhost:8080/",
          "height": 34
        },
        "outputId": "e501e1b8-69e0-4a3d-e573-61b417461352"
      },
      "source": [
        "lower = int(input(\"Enter lower range:\"))"
      ],
      "execution_count": 1,
      "outputs": [
        {
          "output_type": "stream",
          "text": [
            "Enter lower range:0\n"
          ],
          "name": "stdout"
        }
      ]
    },
    {
      "cell_type": "code",
      "metadata": {
        "id": "MheV--z68K07",
        "colab_type": "code",
        "colab": {
          "base_uri": "https://localhost:8080/",
          "height": 34
        },
        "outputId": "f784fd3d-be84-46f4-c78e-c980e6d12333"
      },
      "source": [
        "upper = int(input(\"Enter upper range:\"))"
      ],
      "execution_count": 2,
      "outputs": [
        {
          "output_type": "stream",
          "text": [
            "Enter upper range:201\n"
          ],
          "name": "stdout"
        }
      ]
    },
    {
      "cell_type": "code",
      "metadata": {
        "id": "46M6fwXs6Pjg",
        "colab_type": "code",
        "colab": {
          "base_uri": "https://localhost:8080/",
          "height": 822
        },
        "outputId": "f3b2b064-8705-4f02-ed8e-18a1e4945bc0"
      },
      "source": [
        "for num in range (lower, upper + 1):\n",
        "  if num > 1:\n",
        "    for i in range (2, num):\n",
        "        if (num % i) == 0:\n",
        "          break\n",
        "    else:\n",
        "      print(num)          \n",
        "\n"
      ],
      "execution_count": 3,
      "outputs": [
        {
          "output_type": "stream",
          "text": [
            "2\n",
            "3\n",
            "5\n",
            "7\n",
            "11\n",
            "13\n",
            "17\n",
            "19\n",
            "23\n",
            "29\n",
            "31\n",
            "37\n",
            "41\n",
            "43\n",
            "47\n",
            "53\n",
            "59\n",
            "61\n",
            "67\n",
            "71\n",
            "73\n",
            "79\n",
            "83\n",
            "89\n",
            "97\n",
            "101\n",
            "103\n",
            "107\n",
            "109\n",
            "113\n",
            "127\n",
            "131\n",
            "137\n",
            "139\n",
            "149\n",
            "151\n",
            "157\n",
            "163\n",
            "167\n",
            "173\n",
            "179\n",
            "181\n",
            "191\n",
            "193\n",
            "197\n",
            "199\n"
          ],
          "name": "stdout"
        }
      ]
    },
    {
      "cell_type": "code",
      "metadata": {
        "id": "4AnWOE7fjmD3",
        "colab_type": "code",
        "colab": {}
      },
      "source": [
        "# Assignment 2 Day 3: Altitude program"
      ],
      "execution_count": 4,
      "outputs": []
    },
    {
      "cell_type": "code",
      "metadata": {
        "id": "mVorsJAzHYam",
        "colab_type": "code",
        "colab": {
          "base_uri": "https://localhost:8080/",
          "height": 52
        },
        "outputId": "1e7aec06-5564-426e-8d7f-273bb313c806"
      },
      "source": [
        "altitude = int(input(\"Enter the altitude=\"))\n",
        "if altitude >=5001:\n",
        "    print(\"Turn around and try later\")\n",
        "elif altitude <=1000:\n",
        "    print(\"Land and the plane\")\n",
        "else:\n",
        "    print(\"Come down to 1000 feet\")"
      ],
      "execution_count": 7,
      "outputs": [
        {
          "output_type": "stream",
          "text": [
            "Enter the altitude=3410\n",
            "Come down to 1000 feet\n"
          ],
          "name": "stdout"
        }
      ]
    },
    {
      "cell_type": "code",
      "metadata": {
        "id": "2FyBf88ekIu4",
        "colab_type": "code",
        "colab": {}
      },
      "source": [
        ""
      ],
      "execution_count": null,
      "outputs": []
    }
  ]
}