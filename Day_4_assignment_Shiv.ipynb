{
  "nbformat": 4,
  "nbformat_minor": 0,
  "metadata": {
    "colab": {
      "name": "Day 4 assignment Shiv.ipynb",
      "provenance": [],
      "authorship_tag": "ABX9TyNBjHa4BMCqpU61k7GzUdzU",
      "include_colab_link": true
    },
    "kernelspec": {
      "name": "python3",
      "display_name": "Python 3"
    }
  },
  "cells": [
    {
      "cell_type": "markdown",
      "metadata": {
        "id": "view-in-github",
        "colab_type": "text"
      },
      "source": [
        "<a href=\"https://colab.research.google.com/github/Shivakumar-Budyal/python-class/blob/master/Day_4_assignment_Shiv.ipynb\" target=\"_parent\"><img src=\"https://colab.research.google.com/assets/colab-badge.svg\" alt=\"Open In Colab\"/></a>"
      ]
    },
    {
      "cell_type": "code",
      "metadata": {
        "id": "n3vYhe77E5Tc",
        "colab_type": "code",
        "colab": {}
      },
      "source": [
        "# printing the 1st armstrong number in the rangeof 1042000 to 702648365 and exit"
      ],
      "execution_count": 17,
      "outputs": []
    },
    {
      "cell_type": "code",
      "metadata": {
        "id": "Lp_7TnxlC5wF",
        "colab_type": "code",
        "colab": {
          "base_uri": "https://localhost:8080/",
          "height": 34
        },
        "outputId": "fd957565-36b4-4277-f474-0ef8552f6e10"
      },
      "source": [
        "for num in range(1042000, 702648365):\n",
        "  order = len(str(num))\n",
        "  sum = 0\n",
        "  temp =num\n",
        "  while temp > 0:\n",
        "    digit = temp % 10\n",
        "    sum += digit ** order\n",
        "    temp //= 10\n",
        "  if num == sum:\n",
        "      print(num, \" is armstrong number\")\n",
        "      break\n",
        "\n",
        "      \n",
        "\n",
        "      "
      ],
      "execution_count": 19,
      "outputs": [
        {
          "output_type": "stream",
          "text": [
            "1741725  is armstrong number\n"
          ],
          "name": "stdout"
        }
      ]
    },
    {
      "cell_type": "code",
      "metadata": {
        "id": "eoPzMQUg-0Vo",
        "colab_type": "code",
        "colab": {}
      },
      "source": [
        ""
      ],
      "execution_count": null,
      "outputs": []
    }
  ]
}