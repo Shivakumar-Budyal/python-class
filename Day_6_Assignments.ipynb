{
  "nbformat": 4,
  "nbformat_minor": 0,
  "metadata": {
    "colab": {
      "name": "Day 6 Assignments.ipynb",
      "provenance": [],
      "authorship_tag": "ABX9TyNJsZO4kni/pBkIHVy7fVtA",
      "include_colab_link": true
    },
    "kernelspec": {
      "name": "python3",
      "display_name": "Python 3"
    }
  },
  "cells": [
    {
      "cell_type": "markdown",
      "metadata": {
        "id": "view-in-github",
        "colab_type": "text"
      },
      "source": [
        "<a href=\"https://colab.research.google.com/github/Shivakumar-Budyal/python-class/blob/master/Day_6_Assignments.ipynb\" target=\"_parent\"><img src=\"https://colab.research.google.com/assets/colab-badge.svg\" alt=\"Open In Colab\"/></a>"
      ]
    },
    {
      "cell_type": "code",
      "metadata": {
        "id": "3NBuy0feRsHW",
        "colab_type": "code",
        "colab": {}
      },
      "source": [
        "# creating bank account class with two attributes\n",
        "\n"
      ],
      "execution_count": null,
      "outputs": []
    },
    {
      "cell_type": "code",
      "metadata": {
        "id": "DhvnIgxwf9AB",
        "colab_type": "code",
        "colab": {}
      },
      "source": [
        "class bankacc():\n",
        "    def __init__(self,accholder,balance):\n",
        "        self.accholder = accholder\n",
        "        self.balance = balance\n",
        "        print(\"your account is created\")\n",
        "    def deposit(self):\n",
        "        print(\"Account holder name: \",self.accholder)\n",
        "        print(\"balance: \",self.balance)\n",
        "        amt = int(input(\"Enter amount to deposit : \"))\n",
        "        self.balance += amt\n",
        "        print(\"your balance now is : \",self.balance)\n",
        "    def withdrawal(self):\n",
        "        print(\"Account holder name: \",self.accholder)\n",
        "        print(\"balance: \",self.balance)\n",
        "        amt = int(input(\"Enter amount to withdraw : \"))\n",
        "        if amt>self.balance:\n",
        "          print(\"Insufficient balance\")\n",
        "        else:\n",
        "           self.balance -= amt\n",
        "           print(\"your remanining balance is: \",self.balance)"
      ],
      "execution_count": 23,
      "outputs": []
    },
    {
      "cell_type": "code",
      "metadata": {
        "id": "jr0Enk7Gg6Vy",
        "colab_type": "code",
        "colab": {
          "base_uri": "https://localhost:8080/",
          "height": 104
        },
        "outputId": "7c78b802-22c7-4510-f9c9-5686110641fa"
      },
      "source": [
        "acc = bankacc(\"Shivakumar budyal\", 10000)\n",
        "acc.deposit()"
      ],
      "execution_count": 25,
      "outputs": [
        {
          "output_type": "stream",
          "text": [
            "your account is created\n",
            "Account holder name:  Shivakumar budyal\n",
            "balance:  10000\n",
            "Enter amount to deposit : 1000\n",
            "your balance now is :  11000\n"
          ],
          "name": "stdout"
        }
      ]
    },
    {
      "cell_type": "code",
      "metadata": {
        "id": "LLxH6DgyjiGu",
        "colab_type": "code",
        "colab": {
          "base_uri": "https://localhost:8080/",
          "height": 87
        },
        "outputId": "b3513feb-d4bd-4a89-df03-8819873c144f"
      },
      "source": [
        "acc.withdrawal ()"
      ],
      "execution_count": 26,
      "outputs": [
        {
          "output_type": "stream",
          "text": [
            "Account holder name:  Shivakumar budyal\n",
            "balance:  11000\n",
            "Enter amount to withdraw : 7000\n",
            "your remanining balance is:  4000\n"
          ],
          "name": "stdout"
        }
      ]
    },
    {
      "cell_type": "code",
      "metadata": {
        "id": "G9ArtdMAkE7p",
        "colab_type": "code",
        "colab": {}
      },
      "source": [
        "# create a cone class that has two attributes , Radius and Height\n"
      ],
      "execution_count": 27,
      "outputs": []
    },
    {
      "cell_type": "code",
      "metadata": {
        "id": "qsq4Unq0ldPF",
        "colab_type": "code",
        "colab": {}
      },
      "source": [
        "import math\n",
        "class conearea():\n",
        "    def __init__(self,r,h):\n",
        "        self.r = r\n",
        "        self.h = h\n",
        "    def volume (self):\n",
        "        volume = (1/3)* 3.14 * self.r * self.r *self.h\n",
        "        print(\"volume of cone :\",volume)\n",
        "    def surfarea(self):\n",
        "        base = 3.14 * self.r * self.r\n",
        "        print(\"base:\",base)\n",
        "        side = 3.14 * self.r * math.sqrt(self.r * self.r + self.h*self.h)\n",
        "        print(\"sides:\",side)\n",
        "        surface = base+side\n",
        "        print(\"area is :\",surface) \n"
      ],
      "execution_count": 28,
      "outputs": []
    },
    {
      "cell_type": "code",
      "metadata": {
        "id": "6YAMqzsimsTo",
        "colab_type": "code",
        "colab": {
          "base_uri": "https://localhost:8080/",
          "height": 87
        },
        "outputId": "4919ccbb-7d2c-4966-b90b-cc5e0275b6ee"
      },
      "source": [
        "area = conearea(20,5)\n",
        "area.volume()\n",
        "area.surfarea()"
      ],
      "execution_count": 31,
      "outputs": [
        {
          "output_type": "stream",
          "text": [
            "volume of cone : 2093.3333333333335\n",
            "base: 1256.0\n",
            "sides: 1294.6551664439455\n",
            "area is : 2550.6551664439457\n"
          ],
          "name": "stdout"
        }
      ]
    },
    {
      "cell_type": "code",
      "metadata": {
        "id": "DjCy3vNgnIuD",
        "colab_type": "code",
        "colab": {}
      },
      "source": [
        ""
      ],
      "execution_count": null,
      "outputs": []
    }
  ]
}